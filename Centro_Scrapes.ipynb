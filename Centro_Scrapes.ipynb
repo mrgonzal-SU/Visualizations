{
 "cells": [
  {
   "cell_type": "markdown",
   "metadata": {},
   "source": [
    "# Scraping [Centro API](https://www.centro.org/misc-group/bus-tracker) to Gather Visualization Data:\n",
    "\n",
    "### Goal:\n",
    "   my goal for this project is to create a relatively concise function/script to scrape Centro's bustracker api to record geodata and transportation data for buses in the Syracuse, NY area\n",
    "\n",
    "### Function:\n",
    "\n",
    "   \"centro_scrape\" takes 5 arguments:\n",
    "        timein: the amount of time to wait before calling api again\n",
    "        url: url to call api (includes key)\n",
    "        i: counter, set default to 0\n",
    "        lines: how many lines of data you want scraped\n",
    "        csv: name of csv\n",
    "\n",
    "### Results: \n",
    "\n",
    "   Function does as asked, can be altered (default i, speed etc) and can be more concise. For my purposes, the function works as required produces a csv that can be easily evaluated in pandas\n",
    "  \n",
    "### Further Thoughts:\n",
    "\n",
    "   Now that I have this information, I would love to begin a visualization in arcgis to view patterns, furthermore it might be interesting to view visualizatons on a normal day versus a blizzard (very appropriate for 'Cuse'!)\n",
    "    \n",
    "   Inspiration for visualization is [linked](https://tjukanov.org/gulfoffinland)\n",
    "    \n",
    "   Also, I am interested in cleaning up the function that calls multiple vehicles.\n",
    "   \n",
    "   \n",
    "### Scroll to the bottom for a first attempt at animated data visualizations!\n",
    "\n",
    "\n",
    "\n"
   ]
  },
  {
   "cell_type": "code",
   "execution_count": null,
   "metadata": {},
   "outputs": [],
   "source": [
    "#if issues on start, check busmap and active vid in api call\n",
    "\n",
    "import requests\n",
    "import csv\n",
    "import datetime\n",
    "import calendar\n",
    "import time\n",
    "import json\n",
    "\n",
    "\n",
    "\n",
    "key = '???'\n",
    "#api key\n",
    "\n",
    "url = 'https://bus-time.centro.org/bustime/api/v3/getvehicles?key='+key+'&vid=1217&format=json'\n",
    "#url through which we call api\n",
    "\n",
    "\n",
    "r = requests.get(url)\n",
    "#call \n",
    "\n",
    "data = r.json()#['bustime-response']['vehicle'][0]\n",
    "#gives features, look at data_new = r.json to view full json format\n",
    "\n",
    "\n",
    "\n",
    "values = data['vid'],data['spd'],data['lat'],data['lon'],data['tmstmp']\n",
    "#now lets put the features im interested into values\n",
    "\n",
    "values\n",
    "#check\n",
    "\n",
    "\n"
   ]
  },
  {
   "cell_type": "code",
   "execution_count": null,
   "metadata": {},
   "outputs": [],
   "source": [
    "\n",
    "\n",
    "#Function \n",
    "from csv import writer\n",
    "def centro_scrape(timein,url,i,lines,csv):\n",
    "#define function with paramters \n",
    "\n",
    "    with open(csv, 'a+',newline ='') as f:\n",
    "        csv_writer = writer(f)\n",
    "        csv_writer.writerow(['VID','MPH','LAT','LON','TIME'])            \n",
    "#writes header\n",
    "    \n",
    "    while i < lines:\n",
    "        r = requests.get(url)\n",
    "        data = r.json()['bustime-response']['vehicle'][0]\n",
    "        values = data['vid'], str(data['spd']), data['lat'], data['lon'], data['tmstmp']\n",
    "\n",
    "#stores each feature that i'm interested in from each call into a list\n",
    "        \n",
    "        with open(csv, 'a+',newline ='') as f:\n",
    "            csv_writer = writer(f)\n",
    "            csv_writer.writerow(list(values))\n",
    "\n",
    "#write rows \n",
    "\n",
    "        time.sleep(timein)\n",
    "        \n",
    "#function sleeps before we start again (timein gives sleep value)\n",
    "        \n",
    "        print(\"scrapes completed:\",i+1)\n",
    "        i +=1\n",
    "#counter\n",
    "\n",
    "    else:\n",
    "        print('done')\n"
   ]
  },
  {
   "cell_type": "code",
   "execution_count": null,
   "metadata": {},
   "outputs": [],
   "source": [
    "centro_scrape(5,url,0,20,'filename.csv')"
   ]
  },
  {
   "cell_type": "markdown",
   "metadata": {},
   "source": [
    "# Below I attempt to scrape multiple busses:\n",
    "\n",
    "Inefficient method"
   ]
  },
  {
   "cell_type": "code",
   "execution_count": null,
   "metadata": {},
   "outputs": [],
   "source": [
    "\n",
    "key = '???'\n",
    "#api key\n",
    "\n",
    "busses = '1237,1906,1212,1251,1629'\n",
    "url = 'https://bus-time.centro.org/bustime/api/v3/getvehicles?key='+key+'&vid=1626,1251,1755,1203,1774&format=json'\n",
    "#url through which we call api\n",
    "#note multiple vid in call\n",
    "\n",
    "r = requests.get(url)\n",
    "#call \n",
    "\n",
    "data = r.json()['bustime-response']['vehicle']\n",
    "#gives features, look at data_new = r.json to view full json format\n",
    "\n"
   ]
  },
  {
   "cell_type": "code",
   "execution_count": null,
   "metadata": {},
   "outputs": [],
   "source": [
    "\n",
    "from csv import writer\n",
    "def centro_scrape(timein,url,i,lines,csv):\n",
    "#define function with paramters \n",
    "\n",
    "    with open(csv, 'a+',newline ='') as f:\n",
    "        csv_writer = writer(f)\n",
    "        csv_writer.writerow(['VID','MPH','LAT','LON','TIME'])            \n",
    "#writes header\n",
    "    \n",
    "    while i < lines:\n",
    "        r = requests.get(url)\n",
    "        bus_one = r.json()['bustime-response']['vehicle'][0]\n",
    "        bus_two = r.json()['bustime-response']['vehicle'][1]\n",
    "        bus_three = r.json()['bustime-response']['vehicle'][2]\n",
    "        bus_four = r.json()['bustime-response']['vehicle'][3]\n",
    "        \n",
    "        values_one = i+1,bus_one['vid'], str(bus_one['spd']), bus_one['lat'], bus_one['lon'], bus_one['tmstmp']\n",
    "        values_two = i+1,bus_two['vid'], str(bus_two['spd']), bus_two['lat'], bus_two['lon'], bus_two['tmstmp']\n",
    "        values_three = i+1,bus_three['vid'], str(bus_three['spd']), bus_three['lat'], bus_three['lon'], bus_three['tmstmp']\n",
    "        values_four = i+1,bus_four['vid'], str(bus_four['spd']), bus_four['lat'], bus_four['lon'], bus_four['tmstmp']\n",
    "        \n",
    "        \n",
    "#stores each feature that i'm interested in from each call into a list\n",
    "        \n",
    "        with open(csv, 'a+',newline ='') as f:\n",
    "            csv_writer = writer(f)\n",
    "            csv_writer.writerow(list(values_one))\n",
    "            csv_writer.writerow(list(values_two))\n",
    "            csv_writer.writerow(list(values_three))\n",
    "            csv_writer.writerow(list(values_four))\n",
    "\n",
    "\n",
    "#write rows \n",
    "\n",
    "        time.sleep(timein)\n",
    "        \n",
    "#function sleeps before we start again (timein gives sleep value)\n",
    "        \n",
    "        print(\"scrapes completed:\",i+1)\n",
    "        i +=1\n",
    "#counter\n",
    "\n",
    "    else:\n",
    "        print('done')"
   ]
  },
  {
   "cell_type": "code",
   "execution_count": null,
   "metadata": {},
   "outputs": [],
   "source": [
    "centro_scrape(5,url,0,90,'filename.csv')\n",
    "\n",
    "#use function to scrape multiple bus locations and speed for approx 7.5 mins"
   ]
  },
  {
   "cell_type": "code",
   "execution_count": null,
   "metadata": {},
   "outputs": [],
   "source": [
    "import pandas as pd\n",
    "\n",
    "df = pd.read_csv('filename.csv')\n",
    "#read data to csv "
   ]
  },
  {
   "cell_type": "code",
   "execution_count": null,
   "metadata": {},
   "outputs": [],
   "source": [
    "df['TIME'] = df['TIME'].astype('datetime64[ns]')\n",
    "\n",
    "#cast datetime type for QGIS modeling"
   ]
  },
  {
   "cell_type": "code",
   "execution_count": null,
   "metadata": {},
   "outputs": [],
   "source": [
    "df.to_csv('for_map.csv')\n",
    "\n",
    "#reupload "
   ]
  },
  {
   "cell_type": "markdown",
   "metadata": {},
   "source": [
    "### A prototype of time series visualization using QGIS:\n",
    "\n",
    "![here](https://github.com/mrgonzal-SU/Visualizations/blob/master/centro_bus_vis.gif?raw=true)"
   ]
  },
  {
   "cell_type": "code",
   "execution_count": null,
   "metadata": {},
   "outputs": [],
   "source": []
  }
 ],
 "metadata": {
  "kernelspec": {
   "display_name": "Python 3",
   "language": "python",
   "name": "python3"
  },
  "language_info": {
   "codemirror_mode": {
    "name": "ipython",
    "version": 3
   },
   "file_extension": ".py",
   "mimetype": "text/x-python",
   "name": "python",
   "nbconvert_exporter": "python",
   "pygments_lexer": "ipython3",
   "version": "3.6.6"
  }
 },
 "nbformat": 4,
 "nbformat_minor": 2
}
